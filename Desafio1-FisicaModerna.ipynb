{
  "nbformat": 4,
  "nbformat_minor": 0,
  "metadata": {
    "colab": {
      "provenance": [],
      "authorship_tag": "ABX9TyMtcdIYfv2zB1CliAXsmUNg",
      "include_colab_link": true
    },
    "kernelspec": {
      "name": "python3",
      "display_name": "Python 3"
    },
    "language_info": {
      "name": "python"
    }
  },
  "cells": [
    {
      "cell_type": "markdown",
      "metadata": {
        "id": "view-in-github",
        "colab_type": "text"
      },
      "source": [
        "<a href=\"https://colab.research.google.com/github/QuantumPower4/MetodosComputacionales20231/blob/main/Desafio1-FisicaModerna.ipynb\" target=\"_parent\"><img src=\"https://colab.research.google.com/assets/colab-badge.svg\" alt=\"Open In Colab\"/></a>"
      ]
    },
    {
      "cell_type": "code",
      "execution_count": 162,
      "metadata": {
        "id": "OXPLVAS1FHia"
      },
      "outputs": [],
      "source": [
        "import sympy as sym\n",
        "import numpy as np\n",
        "import matplotlib.pyplot as plt"
      ]
    },
    {
      "cell_type": "code",
      "source": [
        "1/17.8"
      ],
      "metadata": {
        "colab": {
          "base_uri": "https://localhost:8080/"
        },
        "id": "sddciwcwkyLr",
        "outputId": "b98e58b6-6113-4b33-e48f-94282ad5b347"
      },
      "execution_count": 274,
      "outputs": [
        {
          "output_type": "execute_result",
          "data": {
            "text/plain": [
              "0.056179775280898875"
            ]
          },
          "metadata": {},
          "execution_count": 274
        }
      ]
    },
    {
      "cell_type": "code",
      "source": [
        "g,mu,r,Z,q_e = sym.symbols(\"g,mu,r,Z,q_e\")\n",
        "mu_ = 80.4\n",
        "g_cuadrado = 1.16e-5*mu_**2*8/np.sqrt(2)*17.8\n",
        "q = 0.3028\n",
        "Z_ = 5"
      ],
      "metadata": {
        "id": "ZvEma7JTFLjy"
      },
      "execution_count": 385,
      "outputs": []
    },
    {
      "cell_type": "code",
      "source": [
        "V = -g * (sym.exp(-mu*r)/r) + Z*q_e**2/r\n",
        "V_ = sym.lambdify([g,mu,r,Z,q_e],V)\n",
        "V"
      ],
      "metadata": {
        "colab": {
          "base_uri": "https://localhost:8080/",
          "height": 54
        },
        "id": "ulspWJ4kFYyZ",
        "outputId": "8c5dd5e1-3881-499a-db44-89aa27de3f3d"
      },
      "execution_count": 386,
      "outputs": [
        {
          "output_type": "execute_result",
          "data": {
            "text/plain": [
              "Z*q_e**2/r - g*exp(-mu*r)/r"
            ],
            "text/latex": "$\\displaystyle \\frac{Z q_{e}^{2}}{r} - \\frac{g e^{- \\mu r}}{r}$"
          },
          "metadata": {},
          "execution_count": 386
        }
      ]
    },
    {
      "cell_type": "code",
      "source": [
        "r_ = np.linspace(4e-3,5e-2,1000)\n",
        "\n",
        "plt.plot(r_,V_(g_cuadrado,mu_,r_,Z_,q))"
      ],
      "metadata": {
        "colab": {
          "base_uri": "https://localhost:8080/",
          "height": 447
        },
        "id": "NkJdiuEkCwo4",
        "outputId": "323ac043-130d-4a44-f6ec-42fd66835774"
      },
      "execution_count": 387,
      "outputs": [
        {
          "output_type": "execute_result",
          "data": {
            "text/plain": [
              "[<matplotlib.lines.Line2D at 0x783154699ea0>]"
            ]
          },
          "metadata": {},
          "execution_count": 387
        },
        {
          "output_type": "display_data",
          "data": {
            "text/plain": [
              "<Figure size 640x480 with 1 Axes>"
            ],
            "image/png": "[encoded data removed]"
          },
          "metadata": {}
        }
      ]
    },
    {
      "cell_type": "code",
      "source": [
        "dV_dr = V.diff(r)"
      ],
      "metadata": {
        "id": "iy033Nz9FgXZ"
      },
      "execution_count": 388,
      "outputs": []
    },
    {
      "cell_type": "code",
      "source": [
        "r_optimize_ = sym.solve(dV_dr,r)\n",
        "r_optimize_"
      ],
      "metadata": {
        "colab": {
          "base_uri": "https://localhost:8080/"
        },
        "id": "px6BekUfFjFV",
        "outputId": "16ecc2cf-3ebf-4f71-abe3-e899831d1e10"
      },
      "execution_count": 389,
      "outputs": [
        {
          "output_type": "execute_result",
          "data": {
            "text/plain": [
              "[(-LambertW(-Z*q_e**2*exp(-1)/g) - 1)/mu]"
            ]
          },
          "metadata": {},
          "execution_count": 389
        }
      ]
    },
    {
      "cell_type": "code",
      "source": [
        "r_optimize2 = r_optimize_[0]"
      ],
      "metadata": {
        "id": "QubKFkTKGloy"
      },
      "execution_count": 390,
      "outputs": []
    },
    {
      "cell_type": "code",
      "source": [
        "r_optimize2"
      ],
      "metadata": {
        "colab": {
          "base_uri": "https://localhost:8080/",
          "height": 69
        },
        "id": "EzT-AbU3JQL6",
        "outputId": "97a5ece4-e06f-41cc-e144-a063a6878176"
      },
      "execution_count": 391,
      "outputs": [
        {
          "output_type": "execute_result",
          "data": {
            "text/plain": [
              "(-LambertW(-Z*q_e**2*exp(-1)/g) - 1)/mu"
            ],
            "text/latex": "$\\displaystyle \\frac{- W\\left(- \\frac{Z q_{e}^{2}}{e g}\\right) - 1}{\\mu}$"
          },
          "metadata": {},
          "execution_count": 391
        }
      ]
    },
    {
      "cell_type": "code",
      "source": [
        "from sympy import LambertW\n",
        "r_optimize = (-LambertW((-Z*q_e**2)/(sym.exp(1)*g),-1) - 1)/mu\n",
        "r1 = r_optimize.subs([[g,g_cuadrado],[q_e,q],[mu,mu_],[Z,Z_]]).evalf()\n",
        "r1"
      ],
      "metadata": {
        "colab": {
          "base_uri": "https://localhost:8080/",
          "height": 37
        },
        "id": "0ImrO58UP_gE",
        "outputId": "25d47820-cd18-4891-fb99-0d277faea675"
      },
      "execution_count": 392,
      "outputs": [
        {
          "output_type": "execute_result",
          "data": {
            "text/plain": [
              "0.0560653735586905"
            ],
            "text/latex": "$\\displaystyle 0.0560653735586905$"
          },
          "metadata": {},
          "execution_count": 392
        }
      ]
    },
    {
      "cell_type": "code",
      "source": [
        "XD = r_optimize2.subs([[g,g_cuadrado],[mu,mu_],[Z,Z_],[q_e,q]]).evalf()\n",
        "XD"
      ],
      "metadata": {
        "colab": {
          "base_uri": "https://localhost:8080/",
          "height": 37
        },
        "id": "JJw7fAWlFz4u",
        "outputId": "16617f53-4d14-438b-f498-154b276eddba"
      },
      "execution_count": 393,
      "outputs": [
        {
          "output_type": "execute_result",
          "data": {
            "text/plain": [
              "-0.0121535670408224"
            ],
            "text/latex": "$\\displaystyle -0.0121535670408224$"
          },
          "metadata": {},
          "execution_count": 393
        }
      ]
    },
    {
      "cell_type": "code",
      "source": [
        "dV_dr.subs([[g,g_cuadrado],[mu,mu_],[Z,Z_],[q_e,q],[r,r1]]).evalf()"
      ],
      "metadata": {
        "id": "sUkgLIL--es0",
        "colab": {
          "base_uri": "https://localhost:8080/",
          "height": 37
        },
        "outputId": "00956eec-faf0-4764-dae6-515d5596358a"
      },
      "execution_count": 370,
      "outputs": [
        {
          "output_type": "execute_result",
          "data": {
            "text/plain": [
              "-4.54747350886464e-13"
            ],
            "text/latex": "$\\displaystyle -4.54747350886464 \\cdot 10^{-13}$"
          },
          "metadata": {},
          "execution_count": 370
        }
      ]
    },
    {
      "cell_type": "code",
      "source": [
        "for Z__ in range(1,83):\n",
        "  r_for = r_optimize.subs([[g,g_cuadrado],[q_e,q],[mu,mu_],[Z,Z__]]).evalf()\n",
        "  print(r_for)"
      ],
      "metadata": {
        "colab": {
          "base_uri": "https://localhost:8080/"
        },
        "id": "Fo2lzIyyZETg",
        "outputId": "fd64964a-1e5e-495c-d234-ef38137e468d"
      },
      "execution_count": 394,
      "outputs": [
        {
          "output_type": "stream",
          "name": "stdout",
          "text": [
            "0.0797807907631417\n",
            "0.0697232311134521\n",
            "0.0637396380398397\n",
            "0.0594386607876702\n",
            "0.0560653735586905\n",
            "0.0532817217182654\n",
            "0.0509065938412145\n",
            "0.0488314789641183\n",
            "0.0469861532069058\n",
            "0.0453225237486647\n",
            "0.0438061923952784\n",
            "0.0424116944333148\n",
            "0.0411196436770262\n",
            "0.0399149349864401\n",
            "0.0387855662391767\n",
            "0.0377218398758039\n",
            "0.0367158060103232\n",
            "0.0357608643298571\n",
            "0.0348514733316597\n",
            "0.0339829339109315\n",
            "0.0331512255703638\n",
            "0.0323528805910934\n",
            "0.0315848860608680\n",
            "0.0308446066611119\n",
            "0.0301297231396324\n",
            "0.0294381827860021\n",
            "0.0287681591976514\n",
            "0.0281180193135537\n",
            "0.0274862961881027\n",
            "0.0268716663392325\n",
            "0.0262729307716004\n",
            "0.0256889989747404\n",
            "0.0251188753462316\n",
            "0.0245616476042292\n",
            "0.0240164768415042\n",
            "0.0234825889411358\n",
            "0.0229592671270589\n",
            "0.0224458454643572\n",
            "0.0219417031571518\n",
            "0.0214462595181259\n",
            "0.0209589695046443\n",
            "0.0204793197331720\n",
            "0.0200068248971355\n",
            "0.0195410245241430\n",
            "0.0190814800170838\n",
            "0.0186277719304361\n",
            "0.0181794974384054\n",
            "0.0177362679555050\n",
            "0.0172977068730001\n",
            "0.0168634473763702\n",
            "0.0164331303096093\n",
            "0.0160064020517717\n",
            "0.0155829123695842\n",
            "0.0151623122070279\n",
            "0.0147442513683062\n",
            "0.0143283760441841\n",
            "0.0139143261227995\n",
            "0.0135017322139643\n",
            "0.0130902122996501\n",
            "0.0126793679012895\n",
            "0.0122687796245725\n",
            "0.0118580019014361\n",
            "0.0114465566923009\n",
            "0.0110339258323360\n",
            "0.0106195415929940\n",
            "0.0102027748676538\n",
            "0.00978292015149929\n",
            "0.00935917612754928\n",
            "0.00893062012053869\n",
            "0.00849617381267415\n",
            "0.00805455620534014\n",
            "0.00760421743963323\n",
            "0.00714324293882716\n",
            "0.00666920972627015\n",
            "0.00617896202019684\n",
            "0.00566824261195426\n",
            "0.00513104752893466\n",
            "0.00455839815464992\n",
            "0.00393572191558968\n",
            "0.00323623527190498\n",
            "0.00239871363020941\n",
            "0.00118014787204316\n"
          ]
        }
      ]
    },
    {
      "cell_type": "code",
      "source": [],
      "metadata": {
        "id": "y90DhfGnnNOc"
      },
      "execution_count": null,
      "outputs": []
    }
  ]
}