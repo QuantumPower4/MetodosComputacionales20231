{
  "nbformat": 4,
  "nbformat_minor": 0,
  "metadata": {
    "colab": {
      "provenance": [],
      "include_colab_link": true
    },
    "kernelspec": {
      "name": "python3",
      "display_name": "Python 3"
    },
    "language_info": {
      "name": "python"
    }
  },
  "cells": [
    {
      "cell_type": "markdown",
      "metadata": {
        "id": "view-in-github",
        "colab_type": "text"
      },
      "source": [
        "<a href=\"https://colab.research.google.com/github/QuantumPower4/MetodosComputacionales20231/blob/main/OndasYFluidos.ipynb\" target=\"_parent\"><img src=\"https://colab.research.google.com/assets/colab-badge.svg\" alt=\"Open In Colab\"/></a>"
      ]
    },
    {
      "cell_type": "code",
      "execution_count": 85,
      "metadata": {
        "id": "-mlvMuaU2y2z"
      },
      "outputs": [],
      "source": [
        "import sympy as sym\n",
        "import numpy as np\n",
        "import matplotlib.pyplot as plt\n",
        "import scipy\n",
        "import pandas as pd"
      ]
    },
    {
      "cell_type": "code",
      "source": [
        "def formato_grafica(ax, fig, titulo= \"\", x_label= \"\", y_label= \"\", leyenda=False, xlim=[None, None], ylim=[None, None]):\n",
        "\n",
        "    ax.set_title(titulo)\n",
        "    ax.set_xlabel(x_label)\n",
        "    ax.set_ylabel(y_label)\n",
        "\n",
        "    ax.tick_params(direction='out', length=5, width=0.75, grid_alpha=0.3)\n",
        "\n",
        "    # Utilizarlo si se necesita alguna rotación en los labels de los ejes\n",
        "#     ax.set_xticklabels(ax.get_xticks(), rotation = 0)\n",
        "#     ax.set_yticklabels(ax.get_yticks(), rotation = 0)\n",
        "    ax.set_xlim(xlim[0], xlim[1])\n",
        "    ax.set_ylim(ylim[0], ylim[1])\n",
        "\n",
        "    # Grid de la gráfica\n",
        "    ax.grid(True)\n",
        "    ax.grid(visible=True, which='major', color='grey', linestyle='-')\n",
        "    ax.minorticks_on()\n",
        "    ax.grid(visible=True, which='minor', color='lightgrey', linestyle='-', alpha=0.2)\n",
        "\n",
        "    if leyenda == True:\n",
        "        ax.legend(loc='best', fontsize= 7)\n",
        "\n",
        "    fig.tight_layout()"
      ],
      "metadata": {
        "id": "8qoLvBT324YN"
      },
      "execution_count": 86,
      "outputs": []
    },
    {
      "cell_type": "code",
      "source": [
        "def propagacion_error(func,var,inc)->float:\n",
        "  delta_funcion_cuadrado = 0\n",
        "  num = len(var)\n",
        "\n",
        "  for i in range(num):\n",
        "    delta_funcion_cuadrado += (func.diff(var[i])*inc[i])**2\n",
        "\n",
        "  delta_funcion=sym.sqrt(delta_funcion_cuadrado)\n",
        "\n",
        "  return delta_funcion.simplify()"
      ],
      "metadata": {
        "id": "7JM5-oe88P0U"
      },
      "execution_count": 87,
      "outputs": []
    },
    {
      "cell_type": "markdown",
      "source": [
        "# PRIMERA PARTE"
      ],
      "metadata": {
        "id": "bXbdS-Yr8qLl"
      }
    },
    {
      "cell_type": "code",
      "source": [
        "T_ = sym.symbols(\"T\")\n",
        "propagacion_error(T_**2,[T_],[sym.symbols(\"sigma_T\")])"
      ],
      "metadata": {
        "colab": {
          "base_uri": "https://localhost:8080/",
          "height": 48
        },
        "id": "wAKK5fu38b6p",
        "outputId": "f0b67aaa-7938-4841-96bb-c11fc160b199"
      },
      "execution_count": 89,
      "outputs": [
        {
          "output_type": "execute_result",
          "data": {
            "text/plain": [
              "2*sqrt(T**2*sigma_T**2)"
            ],
            "text/latex": "$\\displaystyle 2 \\sqrt{T^{2} \\sigma_{T}^{2}}$"
          },
          "metadata": {},
          "execution_count": 89
        }
      ]
    },
    {
      "cell_type": "code",
      "source": [
        "T= np.array([2.5,2.32,2.15,2.03,1.87,1.7])\n",
        "T_cuadrado = T**2\n",
        "sigma_T = np.array([0.01]*len(T))\n",
        "sigma_T_cuadrado = sigma_T*2*T #Propagación de la incertidumbre"
      ],
      "metadata": {
        "id": "W47ZubmB3J0b"
      },
      "execution_count": 90,
      "outputs": []
    },
    {
      "cell_type": "code",
      "source": [
        "T_cuadrado"
      ],
      "metadata": {
        "colab": {
          "base_uri": "https://localhost:8080/"
        },
        "id": "Eo2JA3pInVCt",
        "outputId": "6eaf7669-f2f6-470c-e09f-b7e723e691f4"
      },
      "execution_count": 91,
      "outputs": [
        {
          "output_type": "execute_result",
          "data": {
            "text/plain": [
              "array([6.25  , 5.3824, 4.6225, 4.1209, 3.4969, 2.89  ])"
            ]
          },
          "metadata": {},
          "execution_count": 91
        }
      ]
    },
    {
      "cell_type": "code",
      "source": [
        "sigma_T_cuadrado"
      ],
      "metadata": {
        "colab": {
          "base_uri": "https://localhost:8080/"
        },
        "id": "2WUIA1JO6uV0",
        "outputId": "b9faeb16-ed08-4603-b3a8-2c44eb7ec083"
      },
      "execution_count": 92,
      "outputs": [
        {
          "output_type": "execute_result",
          "data": {
            "text/plain": [
              "array([0.05  , 0.0464, 0.043 , 0.0406, 0.0374, 0.034 ])"
            ]
          },
          "metadata": {},
          "execution_count": 92
        }
      ]
    },
    {
      "cell_type": "code",
      "source": [
        "L = np.array([1.45,1.3,1.15,1,0.85,0.7])\n",
        "sigma_L = np.array([1/2000]*len(L))"
      ],
      "metadata": {
        "id": "2fjsTCZ93w34"
      },
      "execution_count": 93,
      "outputs": []
    },
    {
      "cell_type": "code",
      "source": [
        "sigma_L"
      ],
      "metadata": {
        "colab": {
          "base_uri": "https://localhost:8080/"
        },
        "id": "N4ZZ4G8Q60Qc",
        "outputId": "d0218fb8-858a-4f3b-c7f5-2440a8c3b309"
      },
      "execution_count": 94,
      "outputs": [
        {
          "output_type": "execute_result",
          "data": {
            "text/plain": [
              "array([0.0005, 0.0005, 0.0005, 0.0005, 0.0005, 0.0005])"
            ]
          },
          "metadata": {},
          "execution_count": 94
        }
      ]
    },
    {
      "cell_type": "code",
      "source": [
        "T_teorico = 2*np.pi*np.sqrt(L/9.77)"
      ],
      "metadata": {
        "id": "mTCmttsUjxbb"
      },
      "execution_count": 125,
      "outputs": []
    },
    {
      "cell_type": "code",
      "source": [
        "L_ = sym.Symbol(\"L\")\n",
        "error = propagacion_error(2*sym.pi*sym.sqrt(L_/9.77),[L_],[sym.Symbol(\"sigma_L\")])\n",
        "error_ = sym.lambdify([L_,sym.Symbol(\"sigma_L\")],error)"
      ],
      "metadata": {
        "id": "mV6TUswlj5UT"
      },
      "execution_count": 130,
      "outputs": []
    },
    {
      "cell_type": "code",
      "source": [
        "error"
      ],
      "metadata": {
        "colab": {
          "base_uri": "https://localhost:8080/",
          "height": 58
        },
        "id": "LZZrgvj-k162",
        "outputId": "64baeaf2-58d3-4ef9-aa71-a85df849bd67"
      },
      "execution_count": 133,
      "outputs": [
        {
          "output_type": "execute_result",
          "data": {
            "text/plain": [
              "0.319928344075492*pi*sqrt(sigma_L**2/L)"
            ],
            "text/latex": "$\\displaystyle 0.319928344075492 \\pi \\sqrt{\\frac{\\sigma_{L}^{2}}{L}}$"
          },
          "metadata": {},
          "execution_count": 133
        }
      ]
    },
    {
      "cell_type": "code",
      "source": [
        "sigma_T_teorico = error_(L,sigma_L)"
      ],
      "metadata": {
        "id": "5_S9QYUFkVid"
      },
      "execution_count": 131,
      "outputs": []
    },
    {
      "cell_type": "code",
      "source": [
        "T_teorico, sigma_T_teorico"
      ],
      "metadata": {
        "colab": {
          "base_uri": "https://localhost:8080/"
        },
        "id": "Pfb2Az51kwf9",
        "outputId": "9cdd0926-0712-46d2-da79-8b51091205f9"
      },
      "execution_count": 132,
      "outputs": [
        {
          "output_type": "execute_result",
          "data": {
            "text/plain": [
              "(array([2.4205641 , 2.29194537, 2.15566617, 2.01016907, 1.85328431,\n",
              "        1.68182811]),\n",
              " array([0.00041734, 0.00044076, 0.00046862, 0.00050254, 0.00054508,\n",
              "        0.00060065]))"
            ]
          },
          "metadata": {},
          "execution_count": 132
        }
      ]
    },
    {
      "cell_type": "code",
      "source": [
        "T_teo = sym.symbols(\"T_teo\")\n",
        "T_exp = sym.symbols(\"T_exp\")\n",
        "sigma_T_teo = sym.symbols(\"sigma_T_teo\")\n",
        "sigma_T_exp = sym.symbols(\"sigma_T_exp\")\n",
        "\n",
        "propagacion_error(T_teo-T_exp,[T_teo,T_exp],[sigma_T_teo,sigma_T_exp])"
      ],
      "metadata": {
        "colab": {
          "base_uri": "https://localhost:8080/",
          "height": 48
        },
        "id": "TCiYtN6EZ-VB",
        "outputId": "fa8d313c-abb2-4113-e808-6027e18b4fd9"
      },
      "execution_count": 88,
      "outputs": [
        {
          "output_type": "execute_result",
          "data": {
            "text/plain": [
              "sqrt(sigma_T_exp**2 + sigma_T_teo**2)"
            ],
            "text/latex": "$\\displaystyle \\sqrt{\\sigma_{T exp}^{2} + \\sigma_{T teo}^{2}}$"
          },
          "metadata": {},
          "execution_count": 88
        }
      ]
    },
    {
      "cell_type": "code",
      "source": [
        "delta_T = abs(T_teorico-T)\n",
        "sigma_delta_T = np.sqrt(sigma_T**2+sigma_T_teorico**2)"
      ],
      "metadata": {
        "id": "l997H6BylYJK"
      },
      "execution_count": 138,
      "outputs": []
    },
    {
      "cell_type": "code",
      "source": [
        "delta_T,sigma_delta_T"
      ],
      "metadata": {
        "colab": {
          "base_uri": "https://localhost:8080/"
        },
        "id": "BS2IUaNXlw8l",
        "outputId": "3d41d0e7-23c5-41a9-b681-8774307f7826"
      },
      "execution_count": 139,
      "outputs": [
        {
          "output_type": "execute_result",
          "data": {
            "text/plain": [
              "(array([0.0794359 , 0.02805463, 0.00566617, 0.01983093, 0.01671569,\n",
              "        0.01817189]),\n",
              " array([0.0100087 , 0.01000971, 0.01001097, 0.01001262, 0.01001484,\n",
              "        0.01001802]))"
            ]
          },
          "metadata": {},
          "execution_count": 139
        }
      ]
    },
    {
      "cell_type": "code",
      "source": [
        "result1 = scipy.stats.linregress(L,T_cuadrado)"
      ],
      "metadata": {
        "id": "KlHJ1_c831du"
      },
      "execution_count": 95,
      "outputs": []
    },
    {
      "cell_type": "code",
      "source": [
        "fig, ax = plt.subplots(1,1,figsize=(7,5))\n",
        "ax.errorbar(L,T_cuadrado,yerr=sigma_T_cuadrado,xerr=sigma_T_cuadrado,fmt=\".\",label=\"Puntos\")\n",
        "ax.plot(L,np.poly1d([result1.slope, result1.intercept])(L),linestyle=\"--\",label=\"Regresión lineal\")\n",
        "plt.legend()\n",
        "formato_grafica(ax,fig,\"Periodo al cuadrado contra la longitud\",\"L [m]\",\"$T^2$ [$s^2$]\")\n",
        "plt.text(1,5,\"$R^2 = {0}$\".format(np.round(result1.rvalue,4)))\n",
        "plt.savefig(\"./regresion.png\")"
      ],
      "metadata": {
        "colab": {
          "base_uri": "https://localhost:8080/",
          "height": 507
        },
        "id": "DNLQLJZQ3_ij",
        "outputId": "f1bd1df0-b097-4af4-bb58-641ffaf60c4b"
      },
      "execution_count": 96,
      "outputs": [
        {
          "output_type": "display_data",
          "data": {
            "text/plain": [
              "<Figure size 700x500 with 1 Axes>"
            ],
            "image/png": "[encoded data removed]"
          },
          "metadata": {}
        }
      ]
    },
    {
      "cell_type": "code",
      "source": [
        "[result1.slope, result1.stderr]"
      ],
      "metadata": {
        "colab": {
          "base_uri": "https://localhost:8080/"
        },
        "id": "As9mOw_H4RLD",
        "outputId": "3f704119-cd05-45e5-8bed-b5308b3dfd46"
      },
      "execution_count": 97,
      "outputs": [
        {
          "output_type": "execute_result",
          "data": {
            "text/plain": [
              "[4.372971428571429, 0.19378201372556905]"
            ]
          },
          "metadata": {},
          "execution_count": 97
        }
      ]
    },
    {
      "cell_type": "code",
      "source": [
        "[result1.intercept,result1.intercept_stderr]"
      ],
      "metadata": {
        "colab": {
          "base_uri": "https://localhost:8080/"
        },
        "id": "cVoFzGoS68pD",
        "outputId": "df24282f-393d-45d3-d1b0-b262292a93c3"
      },
      "execution_count": 98,
      "outputs": [
        {
          "output_type": "execute_result",
          "data": {
            "text/plain": [
              "[-0.240494285714286, 0.2141488531960167]"
            ]
          },
          "metadata": {},
          "execution_count": 98
        }
      ]
    },
    {
      "cell_type": "code",
      "source": [
        "result1.rvalue"
      ],
      "metadata": {
        "colab": {
          "base_uri": "https://localhost:8080/"
        },
        "id": "iCEfd6A37pRF",
        "outputId": "a448a41e-e5c3-4421-951f-825ce6ac9dce"
      },
      "execution_count": 99,
      "outputs": [
        {
          "output_type": "execute_result",
          "data": {
            "text/plain": [
              "0.9960955996158779"
            ]
          },
          "metadata": {},
          "execution_count": 99
        }
      ]
    },
    {
      "cell_type": "code",
      "source": [
        "m = sym.symbols(\"m\")\n",
        "propagacion_error(4*sym.pi**2/m,[m],[sym.symbols(\"sigma_m\")])"
      ],
      "metadata": {
        "colab": {
          "base_uri": "https://localhost:8080/",
          "height": 58
        },
        "id": "eMwvmF0x9Me8",
        "outputId": "cc542348-ed1a-408a-f907-c20ea2f3a29f"
      },
      "execution_count": 100,
      "outputs": [
        {
          "output_type": "execute_result",
          "data": {
            "text/plain": [
              "4*pi**2*sqrt(sigma_m**2/m**4)"
            ],
            "text/latex": "$\\displaystyle 4 \\pi^{2} \\sqrt{\\frac{\\sigma_{m}^{2}}{m^{4}}}$"
          },
          "metadata": {},
          "execution_count": 100
        }
      ]
    },
    {
      "cell_type": "code",
      "source": [
        "g = (4*np.pi**2)/result1.slope\n",
        "incert_g = (4*np.pi**2)*(result1.stderr/result1.slope**2)\n",
        "g, incert_g"
      ],
      "metadata": {
        "colab": {
          "base_uri": "https://localhost:8080/"
        },
        "id": "YeUxscCJ7BrP",
        "outputId": "1499abee-875c-4c52-c889-1abc9dcd4ab9"
      },
      "execution_count": 101,
      "outputs": [
        {
          "output_type": "execute_result",
          "data": {
            "text/plain": [
              "(9.027824272168711, 0.40005520173108705)"
            ]
          },
          "metadata": {},
          "execution_count": 101
        }
      ]
    },
    {
      "cell_type": "markdown",
      "source": [
        "# SEGUNDA PARTE"
      ],
      "metadata": {
        "id": "MjYQ_Mx58n0T"
      }
    },
    {
      "cell_type": "code",
      "source": [
        "L2 = np.array([1.45,1.3,1.15,1,0.85,0.7])\n",
        "gamma = np.array([0.058,0.079,0.070,0.053,0.0492,0.046])\n",
        "omega = np.array([2.5040,2.651,2.835,3.047,3.2558,3.631])\n",
        "sigma_gamma = np.array([0.002,0.004,0.001,0.002,0.0006,0.002])\n",
        "sigma_gamma = np.array([0.0009,0.002,0.001,0.001,0.0007,0.001])\n",
        "sigma_L2 = sigma_L"
      ],
      "metadata": {
        "id": "NeNJve529hiE"
      },
      "execution_count": 102,
      "outputs": []
    },
    {
      "cell_type": "code",
      "source": [
        "M = 35.2 * (1/1000)\n",
        "sigma_M = 0.1 * (1/1000)\n",
        "R = 7.55986 * (1/100)\n",
        "sigma_R = (1/2000)/(2*np.pi) # P = 2piR"
      ],
      "metadata": {
        "id": "EeTZis-Q81Ua"
      },
      "execution_count": 103,
      "outputs": []
    },
    {
      "cell_type": "code",
      "source": [
        "I = (2/5)*M*R**2 + M*L2**2"
      ],
      "metadata": {
        "id": "Wadf2vMP89fo"
      },
      "execution_count": 104,
      "outputs": []
    },
    {
      "cell_type": "code",
      "source": [
        "M_,R_,L_ = sym.symbols(\"M,R,L\")\n",
        "sigmaM,sigmaR,sigmaL = sym.symbols(\"sigma_M,sigma_R,sigma_L\")\n",
        "inc_prop = propagacion_error((2/5)*M_*R_**2 + M_*L_**2,[M_,R_,L_],[sigmaM,sigmaR,sigmaL])\n",
        "inc_new = sym.lambdify([M_,R_,L_,sigmaM,sigmaR,sigmaL],inc_prop)\n",
        "sigma_I = inc_new(M,R,L2,sigma_M,sigma_R,sigma_L2)"
      ],
      "metadata": {
        "id": "CQvmNfFv-IsL"
      },
      "execution_count": 105,
      "outputs": []
    },
    {
      "cell_type": "code",
      "source": [
        "inc_prop"
      ],
      "metadata": {
        "colab": {
          "base_uri": "https://localhost:8080/",
          "height": 68
        },
        "id": "gWm0PZiHUMlf",
        "outputId": "0059e036-554d-4f32-8547-7d631a4680c2"
      },
      "execution_count": 106,
      "outputs": [
        {
          "output_type": "execute_result",
          "data": {
            "text/plain": [
              "2*sqrt(L**2*M**2*sigma_L**2 + 0.16*M**2*R**2*sigma_R**2 + sigma_M**2*(L**2 + 0.4*R**2)**2/4)"
            ],
            "text/latex": "$\\displaystyle 2 \\sqrt{L^{2} M^{2} \\sigma_{L}^{2} + 0.16 M^{2} R^{2} \\sigma_{R}^{2} + \\frac{\\sigma_{M}^{2} \\left(L^{2} + 0.4 R^{2}\\right)^{2}}{4}}$"
          },
          "metadata": {},
          "execution_count": 106
        }
      ]
    },
    {
      "cell_type": "code",
      "source": [
        "I, sigma_I"
      ],
      "metadata": {
        "colab": {
          "base_uri": "https://localhost:8080/"
        },
        "id": "cGR7zXpG_L4P",
        "outputId": "038e3c27-3300-4489-d50d-08f3b441e9fb"
      },
      "execution_count": 107,
      "outputs": [
        {
          "output_type": "execute_result",
          "data": {
            "text/plain": [
              "(array([0.07408847, 0.05956847, 0.04663247, 0.03528047, 0.02551247,\n",
              "        0.01732847]),\n",
              " array([2.16578747e-04, 1.75306381e-04, 1.38525233e-04, 1.06230138e-04,\n",
              "        7.84116281e-05, 5.50510122e-05]))"
            ]
          },
          "metadata": {},
          "execution_count": 107
        }
      ]
    },
    {
      "cell_type": "code",
      "source": [
        "omega_0 = np.sqrt(M*9.77*L2/I)"
      ],
      "metadata": {
        "id": "bqXpROek_Mae"
      },
      "execution_count": 108,
      "outputs": []
    },
    {
      "cell_type": "code",
      "source": [
        "M_,L_,I_,g_ = sym.symbols(\"M,L,I,g\")\n",
        "sigmaM,sigmaL,sigmaI,sigmag = sym.symbols(\"sigma_M,sigma_L,sigma_I,sigma_g\")\n",
        "inc_prop = propagacion_error(sym.sqrt(M_*g_*L_/I_),[M_,L_,I_,g_],[sigmaM,sigmaL,sigmaI,sigmag])\n",
        "inc_new = sym.lambdify([M_,L_,I_,g_,sigmaM,sigmaL,sigmaI,sigmag],inc_prop)\n",
        "sigma_omega0 = inc_new(M,L2,I,9.77,sigma_M,sigma_L2,sigma_I,0)"
      ],
      "metadata": {
        "id": "yxMaR_pP_6xS"
      },
      "execution_count": 109,
      "outputs": []
    },
    {
      "cell_type": "code",
      "source": [
        "inc_prop"
      ],
      "metadata": {
        "colab": {
          "base_uri": "https://localhost:8080/",
          "height": 77
        },
        "id": "pxa1TRgzpkgc",
        "outputId": "3a9b5db7-d597-4d75-fabe-85a659c9c4de"
      },
      "execution_count": 110,
      "outputs": [
        {
          "output_type": "execute_result",
          "data": {
            "text/plain": [
              "sqrt((L*M*sigma_g**2/g + L*g*sigma_M**2/M + M*g*sigma_L**2/L + L*M*g*sigma_I**2/I**2)/I)/2"
            ],
            "text/latex": "$\\displaystyle \\frac{\\sqrt{\\frac{\\frac{L M \\sigma_{g}^{2}}{g} + \\frac{L g \\sigma_{M}^{2}}{M} + \\frac{M g \\sigma_{L}^{2}}{L} + \\frac{L M g \\sigma_{I}^{2}}{I^{2}}}{I}}}{2}$"
          },
          "metadata": {},
          "execution_count": 110
        }
      ]
    },
    {
      "cell_type": "code",
      "source": [
        "omega_0,sigma_omega0"
      ],
      "metadata": {
        "colab": {
          "base_uri": "https://localhost:8080/"
        },
        "id": "bmnpQOQTCeWF",
        "outputId": "9618b7a6-6201-4510-822b-640431df12f1"
      },
      "execution_count": 111,
      "outputs": [
        {
          "output_type": "execute_result",
          "data": {
            "text/plain": [
              "(array([2.59434246, 2.7395679 , 2.91221428, 3.12213327, 3.38494666,\n",
              "        3.7272415 ]),\n",
              " array([0.00530653, 0.00562773, 0.00601852, 0.00650929, 0.00715317,\n",
              "        0.00805329]))"
            ]
          },
          "metadata": {},
          "execution_count": 111
        }
      ]
    },
    {
      "cell_type": "code",
      "source": [
        "b = gamma*M\n",
        "gamma_,M_ = sym.symbols(\"gamma,M\")\n",
        "sigmagamma,sigmaM = sym.symbols(\"sigma_gamma,sigma_M\")\n",
        "propagacion_error(gamma_*M_,[gamma_,M_],[sigmagamma,sigmaM])"
      ],
      "metadata": {
        "id": "3aJbHgAHCjOP",
        "colab": {
          "base_uri": "https://localhost:8080/",
          "height": 48
        },
        "outputId": "f623f477-5776-46c7-a3b6-cd5bb55e31f0"
      },
      "execution_count": 112,
      "outputs": [
        {
          "output_type": "execute_result",
          "data": {
            "text/plain": [
              "sqrt(M**2*sigma_gamma**2 + gamma**2*sigma_M**2)"
            ],
            "text/latex": "$\\displaystyle \\sqrt{M^{2} \\sigma_{\\gamma}^{2} + \\gamma^{2} \\sigma_{M}^{2}}$"
          },
          "metadata": {},
          "execution_count": 112
        }
      ]
    },
    {
      "cell_type": "code",
      "source": [
        "sigma_b = np.sqrt(M**2*sigma_gamma**2+gamma**2*sigma_M**2)"
      ],
      "metadata": {
        "id": "MNulwK2BmVXy"
      },
      "execution_count": 113,
      "outputs": []
    },
    {
      "cell_type": "code",
      "source": [
        "b,sigma_b"
      ],
      "metadata": {
        "colab": {
          "base_uri": "https://localhost:8080/"
        },
        "id": "VmzCE0ZsDHYS",
        "outputId": "ffbac847-60a5-4cd5-8493-c313777d9242"
      },
      "execution_count": 114,
      "outputs": [
        {
          "output_type": "execute_result",
          "data": {
            "text/plain": [
              "(array([0.0020416 , 0.0027808 , 0.002464  , 0.0018656 , 0.00173184,\n",
              "        0.0016192 ]),\n",
              " array([3.22065583e-05, 7.08418662e-05, 3.58892742e-05, 3.55967695e-05,\n",
              "        2.51264005e-05, 3.54992958e-05]))"
            ]
          },
          "metadata": {},
          "execution_count": 114
        }
      ]
    },
    {
      "cell_type": "code",
      "source": [
        "omega_teo = np.sqrt(omega_0**2 - gamma**2/4)\n",
        "omega_0_ = sym.Symbol(\"omega_0\")\n",
        "sigma_omega_0_ = sym.Symbol(\"sigma_omega_0\")\n",
        "inc_prop = propagacion_error(sym.sqrt(omega_0_**2-gamma_**2/4),[omega_0_,gamma_],[sigma_omega_0_,sigmagamma])\n",
        "inc_new = sym.lambdify([omega_0_,gamma_,sigma_omega_0_,sigmagamma],inc_prop)\n",
        "sigma_omega_teo = inc_new(omega_0,gamma,sigma_omega0,sigma_gamma)"
      ],
      "metadata": {
        "id": "SSWTlP9glsp9"
      },
      "execution_count": 115,
      "outputs": []
    },
    {
      "cell_type": "code",
      "source": [
        "inc_prop"
      ],
      "metadata": {
        "colab": {
          "base_uri": "https://localhost:8080/",
          "height": 77
        },
        "id": "Zmy4Zj8Apg0l",
        "outputId": "ad402a27-f660-400f-cb63-66e3f936e7b9"
      },
      "execution_count": 116,
      "outputs": [
        {
          "output_type": "execute_result",
          "data": {
            "text/plain": [
              "sqrt((-gamma**2*sigma_gamma**2 - 16*omega_0**2*sigma_omega_0**2)/(gamma**2 - 4*omega_0**2))/2"
            ],
            "text/latex": "$\\displaystyle \\frac{\\sqrt{\\frac{- \\gamma^{2} \\sigma_{\\gamma}^{2} - 16 \\omega_{0}^{2} \\sigma_{\\omega 0}^{2}}{\\gamma^{2} - 4 \\omega_{0}^{2}}}}{2}$"
          },
          "metadata": {},
          "execution_count": 116
        }
      ]
    },
    {
      "cell_type": "code",
      "source": [
        "omega_teo, sigma_omega_teo"
      ],
      "metadata": {
        "colab": {
          "base_uri": "https://localhost:8080/"
        },
        "id": "Kh44uhq4ly7_",
        "outputId": "e38a28f8-2aeb-48ca-8b0a-f441ab760e96"
      },
      "execution_count": 117,
      "outputs": [
        {
          "output_type": "execute_result",
          "data": {
            "text/plain": [
              "(array([2.59418037, 2.73928313, 2.91200395, 3.1220208 , 3.38485727,\n",
              "        3.72717054]),\n",
              " array([0.00530686, 0.00562833, 0.00601896, 0.00650953, 0.00715336,\n",
              "        0.00805344]))"
            ]
          },
          "metadata": {},
          "execution_count": 117
        }
      ]
    },
    {
      "cell_type": "code",
      "source": [
        "omega_0, sigma_omega0"
      ],
      "metadata": {
        "colab": {
          "base_uri": "https://localhost:8080/"
        },
        "id": "1FRNyJEAnf1N",
        "outputId": "e7311ec8-6add-4605-fd46-849f99787766"
      },
      "execution_count": 118,
      "outputs": [
        {
          "output_type": "execute_result",
          "data": {
            "text/plain": [
              "(array([2.59434246, 2.7395679 , 2.91221428, 3.12213327, 3.38494666,\n",
              "        3.7272415 ]),\n",
              " array([0.00530653, 0.00562773, 0.00601852, 0.00650929, 0.00715317,\n",
              "        0.00805329]))"
            ]
          },
          "metadata": {},
          "execution_count": 118
        }
      ]
    },
    {
      "cell_type": "markdown",
      "source": [
        "Datos adicionales (periodo)"
      ],
      "metadata": {
        "id": "rbA15Lt8Qajs"
      }
    },
    {
      "cell_type": "code",
      "source": [
        "T_amort = 2*np.pi*np.sqrt(I/(M*9.77*L))\n",
        "I_ = sym.Symbol(\"I\")\n",
        "sigma_I_ = sym.Symbol(\"sigma_I\")\n",
        "inc_prop = propagacion_error(2*sym.pi*sym.sqrt(I_/(M_*9.77*L_)),[I_,M_,L_],[sigma_I_,sigmaM,sigmaL])\n",
        "inc_new = sym.lambdify([I_,M_,L_,sigma_I_,sigmaM,sigmaL],inc_prop)\n",
        "sigma_T_amort = inc_new(I,M,L,sigma_I,sigma_M,sigma_L)\n",
        "\n",
        "T_amort,sigma_T_amort"
      ],
      "metadata": {
        "id": "NfgN7Lcurmr6",
        "colab": {
          "base_uri": "https://localhost:8080/"
        },
        "outputId": "4110269f-e059-48c4-920f-1be037626c47"
      },
      "execution_count": 119,
      "outputs": [
        {
          "output_type": "execute_result",
          "data": {
            "text/plain": [
              "(array([2.42187969, 2.29349501, 2.1575285 , 2.01246544, 1.85621398,\n",
              "        1.68574677]),\n",
              " array([0.00495377, 0.00471139, 0.00445885, 0.00419576, 0.00392261,\n",
              "        0.00364232]))"
            ]
          },
          "metadata": {},
          "execution_count": 119
        }
      ]
    },
    {
      "cell_type": "code",
      "source": [
        "inc_prop"
      ],
      "metadata": {
        "colab": {
          "base_uri": "https://localhost:8080/",
          "height": 68
        },
        "id": "9innjVa5RW4a",
        "outputId": "d98c60f6-b2ba-49de-acfc-385eb0a14e68"
      },
      "execution_count": 120,
      "outputs": [
        {
          "output_type": "execute_result",
          "data": {
            "text/plain": [
              "0.319928344075492*pi*sqrt((I*sigma_M**2/M**2 + I*sigma_L**2/L**2 + sigma_I**2/I)/(L*M))"
            ],
            "text/latex": "$\\displaystyle 0.319928344075492 \\pi \\sqrt{\\frac{\\frac{I \\sigma_{M}^{2}}{M^{2}} + \\frac{I \\sigma_{L}^{2}}{L^{2}} + \\frac{\\sigma_{I}^{2}}{I}}{L M}}$"
          },
          "metadata": {},
          "execution_count": 120
        }
      ]
    }
  ]
}