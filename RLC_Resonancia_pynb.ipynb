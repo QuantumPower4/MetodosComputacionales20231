{
  "cells": [
    {
      "cell_type": "markdown",
      "metadata": {
        "id": "view-in-github",
        "colab_type": "text"
      },
      "source": [
        "<a href=\"https://colab.research.google.com/github/QuantumPower4/MetodosComputacionales20231/blob/main/RLC_Resonancia_pynb.ipynb\" target=\"_parent\"><img src=\"https://colab.research.google.com/assets/colab-badge.svg\" alt=\"Open In Colab\"/></a>"
      ]
    },
    {
      "cell_type": "code",
      "execution_count": null,
      "metadata": {
        "id": "1w-XcAEoVfIR"
      },
      "outputs": [],
      "source": [
        "import scipy\n",
        "import numpy as np\n",
        "import sympy as sym\n",
        "import matplotlib.pyplot as plt\n",
        "import pandas as pd\n",
        "from sklearn.metrics import r2_score"
      ]
    },
    {
      "cell_type": "code",
      "source": [
        "def formato_grafica(titulo, ejex, ejey, leyenda=False, xlim=[None, None], ylim=[None, None]):\n",
        "    plt.rcParams['axes.axisbelow'] = True\n",
        "\n",
        "    plt.title(titulo, fontsize=15)\n",
        "    plt.ylabel(ejey, fontsize=13)\n",
        "    plt.xlabel(ejex, fontsize=13)\n",
        "\n",
        "    plt.tick_params(direction='out', length=5, width=0.75, grid_alpha=0.3)\n",
        "    plt.xticks(rotation=0)\n",
        "    plt.minorticks_on()\n",
        "    plt.ylim(ylim[0], ylim[1])\n",
        "    plt.xlim(xlim[0], xlim[1])\n",
        "    plt.grid(True)\n",
        "    plt.grid(visible=True, which='major', color='grey', linestyle='-')\n",
        "    plt.grid(visible=True, which='minor', color='lightgrey', linestyle='-', alpha=0.2)\n",
        "\n",
        "    if leyenda == True:\n",
        "        plt.legend(loc='best')\n",
        "\n",
        "    plt.tight_layout;"
      ],
      "metadata": {
        "id": "gge-wNcjiRmj"
      },
      "execution_count": null,
      "outputs": []
    },
    {
      "cell_type": "code",
      "execution_count": null,
      "metadata": {
        "id": "EI5WSvADW19A"
      },
      "outputs": [],
      "source": [
        "datos = \"/content/datos xd lol jaja ayuda.txt\""
      ]
    },
    {
      "cell_type": "code",
      "execution_count": null,
      "metadata": {
        "id": "3C6AfUbjXKhL"
      },
      "outputs": [],
      "source": [
        "DataFrame = pd.read_csv(datos,sep=\"\t\",engine=\"python\",names=[\"frec\",\"delta\",\"vpp1\",\"vpp2\",\"frec_ang\",\"delta_rad\"],decimal=\",\")"
      ]
    },
    {
      "cell_type": "code",
      "execution_count": null,
      "metadata": {
        "colab": {
          "base_uri": "https://localhost:8080/",
          "height": 1000
        },
        "id": "kZ5ZdUN9Xzsz",
        "outputId": "780c5c10-e21f-468a-b2b8-e0b8c6e68cd4"
      },
      "outputs": [
        {
          "output_type": "execute_result",
          "data": {
            "text/plain": [
              "    frec  delta  vpp1  vpp2      frec_ang  delta_rad\n",
              "0   5500 -39.80  4.96  3.64  34557.519190   0.694641\n",
              "1   5600 -38.20  4.96  3.68  35185.837720   0.666716\n",
              "2   5700 -35.40  4.96  3.76  35814.156251   0.617847\n",
              "3   5800 -33.40  4.92  3.80  36442.474782   0.582940\n",
              "4   5900 -31.80  4.84  3.88  37070.793312   0.555015\n",
              "5   6000 -28.60  4.84  3.94  37699.111843   0.499164\n",
              "6   6100 -28.20  4.84  3.98  38327.430374   0.492183\n",
              "7   6200 -26.80  4.80  4.04  38955.748904   0.467748\n",
              "8   6300 -22.60  4.80  4.10  39584.067435   0.394444\n",
              "9   6400 -21.20  4.80  4.12  40212.385966   0.370010\n",
              "10  6500 -18.70  4.80  4.16  40840.704497   0.326377\n",
              "11  6600 -17.10  4.80  4.20  41469.023027   0.298451\n",
              "12  6700 -15.90  4.80  4.24  42097.341558   0.277507\n",
              "13  6800 -14.70  4.80  4.28  42725.660089   0.256563\n",
              "14  6900 -11.50  4.72  4.28  43353.978619   0.200713\n",
              "15  7000  -9.08  4.80  4.30  43982.297150   0.158476\n",
              "16  7100  -8.21  4.72  4.34  44610.615681   0.143292\n",
              "17  7200  -7.23  4.72  4.32  45238.934212   0.126187\n",
              "18  7300  -5.25  4.72  4.36  45867.252742   0.091630\n",
              "19  7400  -2.65  4.72  4.36  46495.571273   0.046251\n",
              "20  7500  -1.44  4.72  4.36  47123.889804   0.025133\n",
              "21  7600   0.00  4.72  4.36  47752.208335  -0.000000\n",
              "22  7700   2.22  4.72  4.32  48380.526865  -0.038746\n",
              "23  7800   4.49  4.72  4.30  49008.845396  -0.078365\n",
              "24  7900   7.42  4.64  4.30  49637.163927  -0.129503\n",
              "25  8000   8.65  4.72  4.28  50265.482457  -0.150971\n",
              "26  8100  10.50  4.72  4.28  50893.800988  -0.183260\n",
              "27  8200  12.40  4.72  4.24  51522.119519  -0.216421\n",
              "28  8300  13.70  4.72  4.22  52150.438050  -0.239110\n",
              "29  8400  15.10  4.72  4.20  52778.756580  -0.263545\n",
              "30  8500  17.10  4.72  4.18  53407.075111  -0.298451\n",
              "31  8600  18.50  4.76  4.16  54035.393642  -0.322886\n",
              "32  8700  20.60  4.72  4.12  54663.712173  -0.359538\n",
              "33  8800  22.10  4.80  4.08  55292.030703  -0.385718\n",
              "34  8900  23.70  4.80  4.04  55920.349234  -0.413643\n",
              "35  9000  23.20  4.80  4.00  56548.667765  -0.404916\n",
              "36  9100  24.90  4.80  3.96  57176.986295  -0.434587\n",
              "37  9200  25.10  4.80  3.94  57805.304826  -0.438078\n",
              "38  9300  26.40  4.84  3.88  58433.623357  -0.460767\n",
              "39  9400  27.50  4.80  3.88  59061.941887  -0.479966\n",
              "40  9500  29.40  4.80  3.80  59690.260418  -0.513127"
            ],
            "text/html": [
              "\n",
              "  <div id=\"df-07e26dc2-651d-4098-b91c-4edcb64ba069\" class=\"colab-df-container\">\n",
              "    <div>\n",
              "<style scoped>\n",
              "    .dataframe tbody tr th:only-of-type {\n",
              "        vertical-align: middle;\n",
              "    }\n",
              "\n",
              "    .dataframe tbody tr th {\n",
              "        vertical-align: top;\n",
              "    }\n",
              "\n",
              "    .dataframe thead th {\n",
              "        text-align: right;\n",
              "    }\n",
              "</style>\n",
              "<table border=\"1\" class=\"dataframe\">\n",
              "  <thead>\n",
              "    <tr style=\"text-align: right;\">\n",
              "      <th></th>\n",
              "      <th>frec</th>\n",
              "      <th>delta</th>\n",
              "      <th>vpp1</th>\n",
              "      <th>vpp2</th>\n",
              "      <th>frec_ang</th>\n",
              "      <th>delta_rad</th>\n",
              "    </tr>\n",
              "  </thead>\n",
              "  <tbody>\n",
              "    <tr>\n",
              "      <th>0</th>\n",
              "      <td>5500</td>\n",
              "      <td>-39.80</td>\n",
              "      <td>4.96</td>\n",
              "      <td>3.64</td>\n",
              "      <td>34557.519190</td>\n",
              "      <td>0.694641</td>\n",
              "    </tr>\n",
              "    <tr>\n",
              "      <th>1</th>\n",
              "      <td>5600</td>\n",
              "      <td>-38.20</td>\n",
              "      <td>4.96</td>\n",
              "      <td>3.68</td>\n",
              "      <td>35185.837720</td>\n",
              "      <td>0.666716</td>\n",
              "    </tr>\n",
              "    <tr>\n",
              "      <th>2</th>\n",
              "      <td>5700</td>\n",
              "      <td>-35.40</td>\n",
              "      <td>4.96</td>\n",
              "      <td>3.76</td>\n",
              "      <td>35814.156251</td>\n",
              "      <td>0.617847</td>\n",
              "    </tr>\n",
              "    <tr>\n",
              "      <th>3</th>\n",
              "      <td>5800</td>\n",
              "      <td>-33.40</td>\n",
              "      <td>4.92</td>\n",
              "      <td>3.80</td>\n",
              "      <td>36442.474782</td>\n",
              "      <td>0.582940</td>\n",
              "    </tr>\n",
              "    <tr>\n",
              "      <th>4</th>\n",
              "      <td>5900</td>\n",
              "      <td>-31.80</td>\n",
              "      <td>4.84</td>\n",
              "      <td>3.88</td>\n",
              "      <td>37070.793312</td>\n",
              "      <td>0.555015</td>\n",
              "    </tr>\n",
              "    <tr>\n",
              "      <th>5</th>\n",
              "      <td>6000</td>\n",
              "      <td>-28.60</td>\n",
              "      <td>4.84</td>\n",
              "      <td>3.94</td>\n",
              "      <td>37699.111843</td>\n",
              "      <td>0.499164</td>\n",
              "    </tr>\n",
              "    <tr>\n",
              "      <th>6</th>\n",
              "      <td>6100</td>\n",
              "      <td>-28.20</td>\n",
              "      <td>4.84</td>\n",
              "      <td>3.98</td>\n",
              "      <td>38327.430374</td>\n",
              "      <td>0.492183</td>\n",
              "    </tr>\n",
              "    <tr>\n",
              "      <th>7</th>\n",
              "      <td>6200</td>\n",
              "      <td>-26.80</td>\n",
              "      <td>4.80</td>\n",
              "      <td>4.04</td>\n",
              "      <td>38955.748904</td>\n",
              "      <td>0.467748</td>\n",
              "    </tr>\n",
              "    <tr>\n",
              "      <th>8</th>\n",
              "      <td>6300</td>\n",
              "      <td>-22.60</td>\n",
              "      <td>4.80</td>\n",
              "      <td>4.10</td>\n",
              "      <td>39584.067435</td>\n",
              "      <td>0.394444</td>\n",
              "    </tr>\n",
              "    <tr>\n",
              "      <th>9</th>\n",
              "      <td>6400</td>\n",
              "      <td>-21.20</td>\n",
              "      <td>4.80</td>\n",
              "      <td>4.12</td>\n",
              "      <td>40212.385966</td>\n",
              "      <td>0.370010</td>\n",
              "    </tr>\n",
              "    <tr>\n",
              "      <th>10</th>\n",
              "      <td>6500</td>\n",
              "      <td>-18.70</td>\n",
              "      <td>4.80</td>\n",
              "      <td>4.16</td>\n",
              "      <td>40840.704497</td>\n",
              "      <td>0.326377</td>\n",
              "    </tr>\n",
              "    <tr>\n",
              "      <th>11</th>\n",
              "      <td>6600</td>\n",
              "      <td>-17.10</td>\n",
              "      <td>4.80</td>\n",
              "      <td>4.20</td>\n",
              "      <td>41469.023027</td>\n",
              "      <td>0.298451</td>\n",
              "    </tr>\n",
              "    <tr>\n",
              "      <th>12</th>\n",
              "      <td>6700</td>\n",
              "      <td>-15.90</td>\n",
              "      <td>4.80</td>\n",
              "      <td>4.24</td>\n",
              "      <td>42097.341558</td>\n",
              "      <td>0.277507</td>\n",
              "    </tr>\n",
              "    <tr>\n",
              "      <th>13</th>\n",
              "      <td>6800</td>\n",
              "      <td>-14.70</td>\n",
              "      <td>4.80</td>\n",
              "      <td>4.28</td>\n",
              "      <td>42725.660089</td>\n",
              "      <td>0.256563</td>\n",
              "    </tr>\n",
              "    <tr>\n",
              "      <th>14</th>\n",
              "      <td>6900</td>\n",
              "      <td>-11.50</td>\n",
              "      <td>4.72</td>\n",
              "      <td>4.28</td>\n",
              "      <td>43353.978619</td>\n",
              "      <td>0.200713</td>\n",
              "    </tr>\n",
              "    <tr>\n",
              "      <th>15</th>\n",
              "      <td>7000</td>\n",
              "      <td>-9.08</td>\n",
              "      <td>4.80</td>\n",
              "      <td>4.30</td>\n",
              "      <td>43982.297150</td>\n",
              "      <td>0.158476</td>\n",
              "    </tr>\n",
              "    <tr>\n",
              "      <th>16</th>\n",
              "      <td>7100</td>\n",
              "      <td>-8.21</td>\n",
              "      <td>4.72</td>\n",
              "      <td>4.34</td>\n",
              "      <td>44610.615681</td>\n",
              "      <td>0.143292</td>\n",
              "    </tr>\n",
              "    <tr>\n",
              "      <th>17</th>\n",
              "      <td>7200</td>\n",
              "      <td>-7.23</td>\n",
              "      <td>4.72</td>\n",
              "      <td>4.32</td>\n",
              "      <td>45238.934212</td>\n",
              "      <td>0.126187</td>\n",
              "    </tr>\n",
              "    <tr>\n",
              "      <th>18</th>\n",
              "      <td>7300</td>\n",
              "      <td>-5.25</td>\n",
              "      <td>4.72</td>\n",
              "      <td>4.36</td>\n",
              "      <td>45867.252742</td>\n",
              "      <td>0.091630</td>\n",
              "    </tr>\n",
              "    <tr>\n",
              "      <th>19</th>\n",
              "      <td>7400</td>\n",
              "      <td>-2.65</td>\n",
              "      <td>4.72</td>\n",
              "      <td>4.36</td>\n",
              "      <td>46495.571273</td>\n",
              "      <td>0.046251</td>\n",
              "    </tr>\n",
              "    <tr>\n",
              "      <th>20</th>\n",
              "      <td>7500</td>\n",
              "      <td>-1.44</td>\n",
              "      <td>4.72</td>\n",
              "      <td>4.36</td>\n",
              "      <td>47123.889804</td>\n",
              "      <td>0.025133</td>\n",
              "    </tr>\n",
              "    <tr>\n",
              "      <th>21</th>\n",
              "      <td>7600</td>\n",
              "      <td>0.00</td>\n",
              "      <td>4.72</td>\n",
              "      <td>4.36</td>\n",
              "      <td>47752.208335</td>\n",
              "      <td>-0.000000</td>\n",
              "    </tr>\n",
              "    <tr>\n",
              "      <th>22</th>\n",
              "      <td>7700</td>\n",
              "      <td>2.22</td>\n",
              "      <td>4.72</td>\n",
              "      <td>4.32</td>\n",
              "      <td>48380.526865</td>\n",
              "      <td>-0.038746</td>\n",
              "    </tr>\n",
              "    <tr>\n",
              "      <th>23</th>\n",
              "      <td>7800</td>\n",
              "      <td>4.49</td>\n",
              "      <td>4.72</td>\n",
              "      <td>4.30</td>\n",
              "      <td>49008.845396</td>\n",
              "      <td>-0.078365</td>\n",
              "    </tr>\n",
              "    <tr>\n",
              "      <th>24</th>\n",
              "      <td>7900</td>\n",
              "      <td>7.42</td>\n",
              "      <td>4.64</td>\n",
              "      <td>4.30</td>\n",
              "      <td>49637.163927</td>\n",
              "      <td>-0.129503</td>\n",
              "    </tr>\n",
              "    <tr>\n",
              "      <th>25</th>\n",
              "      <td>8000</td>\n",
              "      <td>8.65</td>\n",
              "      <td>4.72</td>\n",
              "      <td>4.28</td>\n",
              "      <td>50265.482457</td>\n",
              "      <td>-0.150971</td>\n",
              "    </tr>\n",
              "    <tr>\n",
              "      <th>26</th>\n",
              "      <td>8100</td>\n",
              "      <td>10.50</td>\n",
              "      <td>4.72</td>\n",
              "      <td>4.28</td>\n",
              "      <td>50893.800988</td>\n",
              "      <td>-0.183260</td>\n",
              "    </tr>\n",
              "    <tr>\n",
              "      <th>27</th>\n",
              "      <td>8200</td>\n",
              "      <td>12.40</td>\n",
              "      <td>4.72</td>\n",
              "      <td>4.24</td>\n",
              "      <td>51522.119519</td>\n",
              "      <td>-0.216421</td>\n",
              "    </tr>\n",
              "    <tr>\n",
              "      <th>28</th>\n",
              "      <td>8300</td>\n",
              "      <td>13.70</td>\n",
              "      <td>4.72</td>\n",
              "      <td>4.22</td>\n",
              "      <td>52150.438050</td>\n",
              "      <td>-0.239110</td>\n",
              "    </tr>\n",
              "    <tr>\n",
              "      <th>29</th>\n",
              "      <td>8400</td>\n",
              "      <td>15.10</td>\n",
              "      <td>4.72</td>\n",
              "      <td>4.20</td>\n",
              "      <td>52778.756580</td>\n",
              "      <td>-0.263545</td>\n",
              "    </tr>\n",
              "    <tr>\n",
              "      <th>30</th>\n",
              "      <td>8500</td>\n",
              "      <td>17.10</td>\n",
              "      <td>4.72</td>\n",
              "      <td>4.18</td>\n",
              "      <td>53407.075111</td>\n",
              "      <td>-0.298451</td>\n",
              "    </tr>\n",
              "    <tr>\n",
              "      <th>31</th>\n",
              "      <td>8600</td>\n",
              "      <td>18.50</td>\n",
              "      <td>4.76</td>\n",
              "      <td>4.16</td>\n",
              "      <td>54035.393642</td>\n",
              "      <td>-0.322886</td>\n",
              "    </tr>\n",
              "    <tr>\n",
              "      <th>32</th>\n",
              "      <td>8700</td>\n",
              "      <td>20.60</td>\n",
              "      <td>4.72</td>\n",
              "      <td>4.12</td>\n",
              "      <td>54663.712173</td>\n",
              "      <td>-0.359538</td>\n",
              "    </tr>\n",
              "    <tr>\n",
              "      <th>33</th>\n",
              "      <td>8800</td>\n",
              "      <td>22.10</td>\n",
              "      <td>4.80</td>\n",
              "      <td>4.08</td>\n",
              "      <td>55292.030703</td>\n",
              "      <td>-0.385718</td>\n",
              "    </tr>\n",
              "    <tr>\n",
              "      <th>34</th>\n",
              "      <td>8900</td>\n",
              "      <td>23.70</td>\n",
              "      <td>4.80</td>\n",
              "      <td>4.04</td>\n",
              "      <td>55920.349234</td>\n",
              "      <td>-0.413643</td>\n",
              "    </tr>\n",
              "    <tr>\n",
              "      <th>35</th>\n",
              "      <td>9000</td>\n",
              "      <td>23.20</td>\n",
              "      <td>4.80</td>\n",
              "      <td>4.00</td>\n",
              "      <td>56548.667765</td>\n",
              "      <td>-0.404916</td>\n",
              "    </tr>\n",
              "    <tr>\n",
              "      <th>36</th>\n",
              "      <td>9100</td>\n",
              "      <td>24.90</td>\n",
              "      <td>4.80</td>\n",
              "      <td>3.96</td>\n",
              "      <td>57176.986295</td>\n",
              "      <td>-0.434587</td>\n",
              "    </tr>\n",
              "    <tr>\n",
              "      <th>37</th>\n",
              "      <td>9200</td>\n",
              "      <td>25.10</td>\n",
              "      <td>4.80</td>\n",
              "      <td>3.94</td>\n",
              "      <td>57805.304826</td>\n",
              "      <td>-0.438078</td>\n",
              "    </tr>\n",
              "    <tr>\n",
              "      <th>38</th>\n",
              "      <td>9300</td>\n",
              "      <td>26.40</td>\n",
              "      <td>4.84</td>\n",
              "      <td>3.88</td>\n",
              "      <td>58433.623357</td>\n",
              "      <td>-0.460767</td>\n",
              "    </tr>\n",
              "    <tr>\n",
              "      <th>39</th>\n",
              "      <td>9400</td>\n",
              "      <td>27.50</td>\n",
              "      <td>4.80</td>\n",
              "      <td>3.88</td>\n",
              "      <td>59061.941887</td>\n",
              "      <td>-0.479966</td>\n",
              "    </tr>\n",
              "    <tr>\n",
              "      <th>40</th>\n",
              "      <td>9500</td>\n",
              "      <td>29.40</td>\n",
              "      <td>4.80</td>\n",
              "      <td>3.80</td>\n",
              "      <td>59690.260418</td>\n",
              "      <td>-0.513127</td>\n",
              "    </tr>\n",
              "  </tbody>\n",
              "</table>\n",
              "</div>\n",
              "    <div class=\"colab-df-buttons\">\n",
              "\n",
              "  <div class=\"colab-df-container\">\n",
              "    <button class=\"colab-df-convert\" onclick=\"convertToInteractive('df-07e26dc2-651d-4098-b91c-4edcb64ba069')\"\n",
              "            title=\"Convert this dataframe to an interactive table.\"\n",
              "            style=\"display:none;\">\n",
              "\n",
              "  <svg xmlns=\"http://www.w3.org/2000/svg\" height=\"24px\" viewBox=\"0 -960 960 960\">\n",
              "    <path d=\"M120-120v-720h720v720H120Zm60-500h600v-160H180v160Zm220 220h160v-160H400v160Zm0 220h160v-160H400v160ZM180-400h160v-160H180v160Zm440 0h160v-160H620v160ZM180-180h160v-160H180v160Zm440 0h160v-160H620v160Z\"/>\n",
              "  </svg>\n",
              "    </button>\n",
              "\n",
              "  <style>\n",
              "    .colab-df-container {\n",
              "      display:flex;\n",
              "      gap: 12px;\n",
              "    }\n",
              "\n",
              "    .colab-df-convert {\n",
              "      background-color: #E8F0FE;\n",
              "      border: none;\n",
              "      border-radius: 50%;\n",
              "      cursor: pointer;\n",
              "      display: none;\n",
              "      fill: #1967D2;\n",
              "      height: 32px;\n",
              "      padding: 0 0 0 0;\n",
              "      width: 32px;\n",
              "    }\n",
              "\n",
              "    .colab-df-convert:hover {\n",
              "      background-color: #E2EBFA;\n",
              "      box-shadow: 0px 1px 2px rgba(60, 64, 67, 0.3), 0px 1px 3px 1px rgba(60, 64, 67, 0.15);\n",
              "      fill: #174EA6;\n",
              "    }\n",
              "\n",
              "    .colab-df-buttons div {\n",
              "      margin-bottom: 4px;\n",
              "    }\n",
              "\n",
              "    [theme=dark] .colab-df-convert {\n",
              "      background-color: #3B4455;\n",
              "      fill: #D2E3FC;\n",
              "    }\n",
              "\n",
              "    [theme=dark] .colab-df-convert:hover {\n",
              "      background-color: #434B5C;\n",
              "      box-shadow: 0px 1px 3px 1px rgba(0, 0, 0, 0.15);\n",
              "      filter: drop-shadow(0px 1px 2px rgba(0, 0, 0, 0.3));\n",
              "      fill: #FFFFFF;\n",
              "    }\n",
              "  </style>\n",
              "\n",
              "    <script>\n",
              "      const buttonEl =\n",
              "        document.querySelector('#df-07e26dc2-651d-4098-b91c-4edcb64ba069 button.colab-df-convert');\n",
              "      buttonEl.style.display =\n",
              "        google.colab.kernel.accessAllowed ? 'block' : 'none';\n",
              "\n",
              "      async function convertToInteractive(key) {\n",
              "        const element = document.querySelector('#df-07e26dc2-651d-4098-b91c-4edcb64ba069');\n",
              "        const dataTable =\n",
              "          await google.colab.kernel.invokeFunction('convertToInteractive',\n",
              "                                                    [key], {});\n",
              "        if (!dataTable) return;\n",
              "\n",
              "        const docLinkHtml = 'Like what you see? Visit the ' +\n",
              "          '<a target=\"_blank\" href=https://colab.research.google.com/notebooks/data_table.ipynb>data table notebook</a>'\n",
              "          + ' to learn more about interactive tables.';\n",
              "        element.innerHTML = '';\n",
              "        dataTable['output_type'] = 'display_data';\n",
              "        await google.colab.output.renderOutput(dataTable, element);\n",
              "        const docLink = document.createElement('div');\n",
              "        docLink.innerHTML = docLinkHtml;\n",
              "        element.appendChild(docLink);\n",
              "      }\n",
              "    </script>\n",
              "  </div>\n",
              "\n",
              "\n",
              "<div id=\"df-6b2ddc5e-0e8b-4ece-b095-930d6d20e649\">\n",
              "  <button class=\"colab-df-quickchart\" onclick=\"quickchart('df-6b2ddc5e-0e8b-4ece-b095-930d6d20e649')\"\n",
              "            title=\"Suggest charts.\"\n",
              "            style=\"display:none;\">\n",
              "\n",
              "<svg xmlns=\"http://www.w3.org/2000/svg\" height=\"24px\"viewBox=\"0 0 24 24\"\n",
              "     width=\"24px\">\n",
              "    <g>\n",
              "        <path d=\"M19 3H5c-1.1 0-2 .9-2 2v14c0 1.1.9 2 2 2h14c1.1 0 2-.9 2-2V5c0-1.1-.9-2-2-2zM9 17H7v-7h2v7zm4 0h-2V7h2v10zm4 0h-2v-4h2v4z\"/>\n",
              "    </g>\n",
              "</svg>\n",
              "  </button>\n",
              "\n",
              "<style>\n",
              "  .colab-df-quickchart {\n",
              "      --bg-color: #E8F0FE;\n",
              "      --fill-color: #1967D2;\n",
              "      --hover-bg-color: #E2EBFA;\n",
              "      --hover-fill-color: #174EA6;\n",
              "      --disabled-fill-color: #AAA;\n",
              "      --disabled-bg-color: #DDD;\n",
              "  }\n",
              "\n",
              "  [theme=dark] .colab-df-quickchart {\n",
              "      --bg-color: #3B4455;\n",
              "      --fill-color: #D2E3FC;\n",
              "      --hover-bg-color: #434B5C;\n",
              "      --hover-fill-color: #FFFFFF;\n",
              "      --disabled-bg-color: #3B4455;\n",
              "      --disabled-fill-color: #666;\n",
              "  }\n",
              "\n",
              "  .colab-df-quickchart {\n",
              "    background-color: var(--bg-color);\n",
              "    border: none;\n",
              "    border-radius: 50%;\n",
              "    cursor: pointer;\n",
              "    display: none;\n",
              "    fill: var(--fill-color);\n",
              "    height: 32px;\n",
              "    padding: 0;\n",
              "    width: 32px;\n",
              "  }\n",
              "\n",
              "  .colab-df-quickchart:hover {\n",
              "    background-color: var(--hover-bg-color);\n",
              "    box-shadow: 0 1px 2px rgba(60, 64, 67, 0.3), 0 1px 3px 1px rgba(60, 64, 67, 0.15);\n",
              "    fill: var(--button-hover-fill-color);\n",
              "  }\n",
              "\n",
              "  .colab-df-quickchart-complete:disabled,\n",
              "  .colab-df-quickchart-complete:disabled:hover {\n",
              "    background-color: var(--disabled-bg-color);\n",
              "    fill: var(--disabled-fill-color);\n",
              "    box-shadow: none;\n",
              "  }\n",
              "\n",
              "  .colab-df-spinner {\n",
              "    border: 2px solid var(--fill-color);\n",
              "    border-color: transparent;\n",
              "    border-bottom-color: var(--fill-color);\n",
              "    animation:\n",
              "      spin 1s steps(1) infinite;\n",
              "  }\n",
              "\n",
              "  @keyframes spin {\n",
              "    0% {\n",
              "      border-color: transparent;\n",
              "      border-bottom-color: var(--fill-color);\n",
              "      border-left-color: var(--fill-color);\n",
              "    }\n",
              "    20% {\n",
              "      border-color: transparent;\n",
              "      border-left-color: var(--fill-color);\n",
              "      border-top-color: var(--fill-color);\n",
              "    }\n",
              "    30% {\n",
              "      border-color: transparent;\n",
              "      border-left-color: var(--fill-color);\n",
              "      border-top-color: var(--fill-color);\n",
              "      border-right-color: var(--fill-color);\n",
              "    }\n",
              "    40% {\n",
              "      border-color: transparent;\n",
              "      border-right-color: var(--fill-color);\n",
              "      border-top-color: var(--fill-color);\n",
              "    }\n",
              "    60% {\n",
              "      border-color: transparent;\n",
              "      border-right-color: var(--fill-color);\n",
              "    }\n",
              "    80% {\n",
              "      border-color: transparent;\n",
              "      border-right-color: var(--fill-color);\n",
              "      border-bottom-color: var(--fill-color);\n",
              "    }\n",
              "    90% {\n",
              "      border-color: transparent;\n",
              "      border-bottom-color: var(--fill-color);\n",
              "    }\n",
              "  }\n",
              "</style>\n",
              "\n",
              "  <script>\n",
              "    async function quickchart(key) {\n",
              "      const quickchartButtonEl =\n",
              "        document.querySelector('#' + key + ' button');\n",
              "      quickchartButtonEl.disabled = true;  // To prevent multiple clicks.\n",
              "      quickchartButtonEl.classList.add('colab-df-spinner');\n",
              "      try {\n",
              "        const charts = await google.colab.kernel.invokeFunction(\n",
              "            'suggestCharts', [key], {});\n",
              "      } catch (error) {\n",
              "        console.error('Error during call to suggestCharts:', error);\n",
              "      }\n",
              "      quickchartButtonEl.classList.remove('colab-df-spinner');\n",
              "      quickchartButtonEl.classList.add('colab-df-quickchart-complete');\n",
              "    }\n",
              "    (() => {\n",
              "      let quickchartButtonEl =\n",
              "        document.querySelector('#df-6b2ddc5e-0e8b-4ece-b095-930d6d20e649 button');\n",
              "      quickchartButtonEl.style.display =\n",
              "        google.colab.kernel.accessAllowed ? 'block' : 'none';\n",
              "    })();\n",
              "  </script>\n",
              "</div>\n",
              "    </div>\n",
              "  </div>\n"
            ]
          },
          "metadata": {},
          "execution_count": 5
        }
      ],
      "source": [
        "DataFrame"
      ]
    },
    {
      "cell_type": "code",
      "source": [
        "def func0(x,A):\n",
        "  return A"
      ],
      "metadata": {
        "id": "DbEOEFdym9Rr"
      },
      "execution_count": null,
      "outputs": []
    },
    {
      "cell_type": "code",
      "source": [
        "frec_ang = np.array(DataFrame[\"frec_ang\"])\n",
        "vpp1 = np.array(DataFrame[\"vpp1\"])"
      ],
      "metadata": {
        "id": "oIGnFgFtnGXC"
      },
      "execution_count": null,
      "outputs": []
    },
    {
      "cell_type": "code",
      "source": [
        "params0, pcov0 = scipy.optimize.curve_fit(func0,frec_ang,vpp1)"
      ],
      "metadata": {
        "id": "CxKY9kN5nIkT"
      },
      "execution_count": null,
      "outputs": []
    },
    {
      "cell_type": "code",
      "source": [
        "pcov0"
      ],
      "metadata": {
        "colab": {
          "base_uri": "https://localhost:8080/"
        },
        "id": "jj4nen46XpiA",
        "outputId": "97476bcd-80a6-46c6-ff81-99a58e7e9bde"
      },
      "execution_count": null,
      "outputs": [
        {
          "output_type": "execute_result",
          "data": {
            "text/plain": [
              "array([[0.00013083]])"
            ]
          },
          "metadata": {},
          "execution_count": 28
        }
      ]
    },
    {
      "cell_type": "code",
      "source": [
        "params0, np.sqrt(np.diag(pcov0))"
      ],
      "metadata": {
        "colab": {
          "base_uri": "https://localhost:8080/"
        },
        "id": "0t8fqY1HnRxN",
        "outputId": "1d4981e5-b53c-4a11-9bf9-2bdfd83883b9"
      },
      "execution_count": null,
      "outputs": [
        {
          "output_type": "execute_result",
          "data": {
            "text/plain": [
              "(array([4.78243902]), array([0.01143796]))"
            ]
          },
          "metadata": {},
          "execution_count": 9
        }
      ]
    },
    {
      "cell_type": "code",
      "source": [
        "r2_score(vpp1,[params0[0]]*len(vpp1))"
      ],
      "metadata": {
        "colab": {
          "base_uri": "https://localhost:8080/"
        },
        "id": "-EDkdn99tJW-",
        "outputId": "e32b1c7d-3b8f-4eaa-8a4a-3d16c319b480"
      },
      "execution_count": null,
      "outputs": [
        {
          "output_type": "execute_result",
          "data": {
            "text/plain": [
              "-2.220446049250313e-16"
            ]
          },
          "metadata": {},
          "execution_count": 10
        }
      ]
    },
    {
      "cell_type": "code",
      "source": [
        "plt.plot(frec_ang,vpp1)\n",
        "plt.axhline(params0[0],linestyle=\"--\",color=\"black\")\n",
        "formato_grafica(\"Vpp1 vs frecuencia angular $\\omega$\",\"frecuencia angular $\\omega$ [rad/s]\",\"Vpp1\")\n",
        "plt.savefig(\"./vpp1.png\")"
      ],
      "metadata": {
        "colab": {
          "base_uri": "https://localhost:8080/",
          "height": 486
        },
        "id": "_kuA3Kj6lmTD",
        "outputId": "c190525e-df78-4668-e758-9a783e6839cd"
      },
      "execution_count": null,
      "outputs": [
        {
          "output_type": "display_data",
          "data": {
            "text/plain": [
              "<Figure size 640x480 with 1 Axes>"
            ],
            "image/png": "[encoded data removed]"
          },
          "metadata": {}
        }
      ]
    },
    {
      "cell_type": "code",
      "execution_count": null,
      "metadata": {
        "id": "jOAK4At3X1fg"
      },
      "outputs": [],
      "source": [
        "vpp2 = np.array(DataFrame[\"vpp2\"])"
      ]
    },
    {
      "cell_type": "code",
      "execution_count": null,
      "metadata": {
        "id": "4OMt8OGiZH_H"
      },
      "outputs": [],
      "source": [
        "def func1(x,A,B,C):\n",
        "  return (A*B*x) / np.sqrt((x*B)**2+(C**2-x**2)**2)"
      ]
    },
    {
      "cell_type": "code",
      "execution_count": null,
      "metadata": {
        "id": "NhwXD5E_Z2eN"
      },
      "outputs": [],
      "source": [
        "params1, pcov1 = scipy.optimize.curve_fit(func1,frec_ang,vpp2,p0=[4,4,4])"
      ]
    },
    {
      "cell_type": "code",
      "execution_count": null,
      "metadata": {
        "colab": {
          "base_uri": "https://localhost:8080/"
        },
        "id": "98r9Dk_la1AL",
        "outputId": "3317225b-cdcc-4c52-97d2-0c59ddbcc20b"
      },
      "outputs": [
        {
          "output_type": "execute_result",
          "data": {
            "text/plain": [
              "(array([4.34658788e+00, 4.28012358e+04, 4.66765796e+04]),\n",
              " array([3.24348160e-03, 2.63052582e+02, 3.75843101e+01]),\n",
              " array([[ 1.05201729e-05, -6.35538653e-01, -1.58031683e-02],\n",
              "        [-6.35538653e-01,  6.91966611e+04,  2.81485469e+03],\n",
              "        [-1.58031683e-02,  2.81485469e+03,  1.41258037e+03]]))"
            ]
          },
          "metadata": {},
          "execution_count": 15
        }
      ],
      "source": [
        "params1, np.sqrt(np.diag(pcov1)), pcov1"
      ]
    },
    {
      "cell_type": "code",
      "source": [
        "params1[2]"
      ],
      "metadata": {
        "colab": {
          "base_uri": "https://localhost:8080/"
        },
        "id": "O84Lna65Qfnv",
        "outputId": "4332692f-8ed6-46bc-debc-57b8bd194b0f"
      },
      "execution_count": null,
      "outputs": [
        {
          "output_type": "execute_result",
          "data": {
            "text/plain": [
              "46676.579628352585"
            ]
          },
          "metadata": {},
          "execution_count": 27
        }
      ]
    },
    {
      "cell_type": "code",
      "source": [
        "r2_score(vpp2,func1(frec_ang,*params1))"
      ],
      "metadata": {
        "colab": {
          "base_uri": "https://localhost:8080/"
        },
        "id": "0jkdXt6Lr6tO",
        "outputId": "1ad137f3-58b1-485e-8ce1-127b1d9d4604"
      },
      "execution_count": null,
      "outputs": [
        {
          "output_type": "execute_result",
          "data": {
            "text/plain": [
              "0.9961776765099079"
            ]
          },
          "metadata": {},
          "execution_count": 16
        }
      ]
    },
    {
      "cell_type": "code",
      "execution_count": null,
      "metadata": {
        "colab": {
          "base_uri": "https://localhost:8080/",
          "height": 486
        },
        "id": "VgCkwhMTa2Jt",
        "outputId": "aa0524f0-4412-456b-b8ae-c54d10adcfa7"
      },
      "outputs": [
        {
          "output_type": "display_data",
          "data": {
            "text/plain": [
              "<Figure size 640x480 with 1 Axes>"
            ],
            "image/png": "[encoded data removed]"
          },
          "metadata": {}
        }
      ],
      "source": [
        "x_ = np.linspace(frec_ang[0],frec_ang[-1],100)\n",
        "plt.plot(x_,func1(x_,*params1),linestyle=\"--\",color=\"black\")\n",
        "plt.scatter(frec_ang,vpp2)\n",
        "formato_grafica(\"Vpp2 vs frecuencia angular $\\omega$\",\"frecuencia angular $\\omega$ [rad/s]\",\"Vpp2\")\n",
        "plt.savefig(\"./vpp2.png\")"
      ]
    },
    {
      "cell_type": "code",
      "source": [
        "def func2(x,A,B):\n",
        "  return np.arctan((A**2-x**2)/(x*B))"
      ],
      "metadata": {
        "id": "LOGHp6IbjDf5"
      },
      "execution_count": null,
      "outputs": []
    },
    {
      "cell_type": "code",
      "source": [
        "angulo_rad = np.array(DataFrame[\"delta_rad\"])"
      ],
      "metadata": {
        "id": "aRjVE-LnjuHW"
      },
      "execution_count": null,
      "outputs": []
    },
    {
      "cell_type": "code",
      "source": [
        "params2, pcov2 = scipy.optimize.curve_fit(func2, frec_ang, angulo_rad, p0=[4,4])"
      ],
      "metadata": {
        "id": "_820ki41jhNF"
      },
      "execution_count": null,
      "outputs": []
    },
    {
      "cell_type": "code",
      "source": [
        "params2, np.sqrt(np.diag(pcov2)), pcov2"
      ],
      "metadata": {
        "colab": {
          "base_uri": "https://localhost:8080/"
        },
        "id": "-8cQtnBCkJKa",
        "outputId": "2155e633-7ad1-4a44-a2f1-e5352211ce9f"
      },
      "execution_count": null,
      "outputs": [
        {
          "output_type": "execute_result",
          "data": {
            "text/plain": [
              "(array([47348.33072702, 38379.32999989]),\n",
              " array([ 51.94969055, 301.04103323]),\n",
              " array([[ 2698.77034814,  2778.06413403],\n",
              "        [ 2778.06413403, 90625.70368555]]))"
            ]
          },
          "metadata": {},
          "execution_count": 21
        }
      ]
    },
    {
      "cell_type": "code",
      "source": [
        "r2_score(angulo_rad,func2(frec_ang,*params2))"
      ],
      "metadata": {
        "colab": {
          "base_uri": "https://localhost:8080/"
        },
        "id": "6gISCuBhsJFB",
        "outputId": "7858fce6-d246-4f66-d7f3-90f7c836008f"
      },
      "execution_count": null,
      "outputs": [
        {
          "output_type": "execute_result",
          "data": {
            "text/plain": [
              "0.9983122593463452"
            ]
          },
          "metadata": {},
          "execution_count": 22
        }
      ]
    },
    {
      "cell_type": "code",
      "source": [
        "plt.plot(x_,func2(x_,*params2),linestyle=\"--\",color=\"black\")\n",
        "plt.scatter(frec_ang,angulo_rad)\n",
        "formato_grafica(\"Ángulo $\\delta$ vs frecuencia angular $\\omega$\",\"frecuencia angular $\\omega$ [rad/s]\",\"Ángulo $\\delta$\")\n",
        "plt.savefig(\"./delta.png\")"
      ],
      "metadata": {
        "colab": {
          "base_uri": "https://localhost:8080/",
          "height": 490
        },
        "id": "tyxzb_M_kl2y",
        "outputId": "3c1d299d-fada-4513-e763-ccdffb7456d0"
      },
      "execution_count": null,
      "outputs": [
        {
          "output_type": "display_data",
          "data": {
            "text/plain": [
              "<Figure size 640x480 with 1 Axes>"
            ],
            "image/png": "[encoded data removed]"
          },
          "metadata": {}
        }
      ]
    },
    {
      "cell_type": "code",
      "source": [],
      "metadata": {
        "id": "Mnh61M9Hq4fW"
      },
      "execution_count": null,
      "outputs": []
    }
  ],
  "metadata": {
    "colab": {
      "provenance": [],
      "authorship_tag": "ABX9TyM+NUp2jLdkUbslXPFeiep1",
      "include_colab_link": true
    },
    "kernelspec": {
      "display_name": "Python 3",
      "name": "python3"
    },
    "language_info": {
      "name": "python"
    }
  },
  "nbformat": 4,
  "nbformat_minor": 0
}